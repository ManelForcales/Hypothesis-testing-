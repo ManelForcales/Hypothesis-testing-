{
 "cells": [
  {
   "cell_type": "code",
   "execution_count": 1,
   "metadata": {},
   "outputs": [],
   "source": [
    "import pandas as pd\n",
    "import numpy as np\n",
    "import seaborn as sns\n",
    "import matplotlib.pyplot as plt\n",
    "pd.set_option('display.max_columns', None)"
   ]
  },
  {
   "cell_type": "code",
   "execution_count": 2,
   "metadata": {},
   "outputs": [],
   "source": [
    "mlb = pd.read_csv('MLB.txt', delimiter = \"\\t\")"
   ]
  },
  {
   "cell_type": "code",
   "execution_count": 3,
   "metadata": {},
   "outputs": [
    {
     "data": {
      "text/html": [
       "<div>\n",
       "<style scoped>\n",
       "    .dataframe tbody tr th:only-of-type {\n",
       "        vertical-align: middle;\n",
       "    }\n",
       "\n",
       "    .dataframe tbody tr th {\n",
       "        vertical-align: top;\n",
       "    }\n",
       "\n",
       "    .dataframe thead th {\n",
       "        text-align: right;\n",
       "    }\n",
       "</style>\n",
       "<table border=\"1\" class=\"dataframe\">\n",
       "  <thead>\n",
       "    <tr style=\"text-align: right;\">\n",
       "      <th></th>\n",
       "      <th>player</th>\n",
       "      <th>team</th>\n",
       "      <th>position</th>\n",
       "      <th>salary</th>\n",
       "    </tr>\n",
       "  </thead>\n",
       "  <tbody>\n",
       "    <tr>\n",
       "      <th>0</th>\n",
       "      <td>Brandon Webb</td>\n",
       "      <td>Arizona Diamondbacks</td>\n",
       "      <td>Pitcher</td>\n",
       "      <td>8500.0</td>\n",
       "    </tr>\n",
       "    <tr>\n",
       "      <th>1</th>\n",
       "      <td>Danny Haren</td>\n",
       "      <td>Arizona Diamondbacks</td>\n",
       "      <td>Pitcher</td>\n",
       "      <td>8250.0</td>\n",
       "    </tr>\n",
       "    <tr>\n",
       "      <th>2</th>\n",
       "      <td>Chris Snyder</td>\n",
       "      <td>Arizona Diamondbacks</td>\n",
       "      <td>Catcher</td>\n",
       "      <td>5250.0</td>\n",
       "    </tr>\n",
       "    <tr>\n",
       "      <th>3</th>\n",
       "      <td>Edwin Jackson</td>\n",
       "      <td>Arizona Diamondbacks</td>\n",
       "      <td>Pitcher</td>\n",
       "      <td>4600.0</td>\n",
       "    </tr>\n",
       "    <tr>\n",
       "      <th>4</th>\n",
       "      <td>Adam LaRoche</td>\n",
       "      <td>Arizona Diamondbacks</td>\n",
       "      <td>First Baseman</td>\n",
       "      <td>4500.0</td>\n",
       "    </tr>\n",
       "  </tbody>\n",
       "</table>\n",
       "</div>"
      ],
      "text/plain": [
       "          player                  team       position  salary\n",
       "0   Brandon Webb  Arizona Diamondbacks        Pitcher  8500.0\n",
       "1    Danny Haren  Arizona Diamondbacks        Pitcher  8250.0\n",
       "2   Chris Snyder  Arizona Diamondbacks        Catcher  5250.0\n",
       "3  Edwin Jackson  Arizona Diamondbacks        Pitcher  4600.0\n",
       "4   Adam LaRoche  Arizona Diamondbacks  First Baseman  4500.0"
      ]
     },
     "execution_count": 3,
     "metadata": {},
     "output_type": "execute_result"
    }
   ],
   "source": [
    "mlb.head()"
   ]
  },
  {
   "cell_type": "markdown",
   "metadata": {},
   "source": [
    "## Exercici 1\n",
    "\n",
    "Agafa un conjunt de dades de tema esportiu que t'agradi i selecciona un atribut del conjunt de dades. Calcula el p-valor i digues si rebutja la hipòtesi nul·la agafant un alfa de 5%. "
   ]
  },
  {
   "cell_type": "code",
   "execution_count": 4,
   "metadata": {},
   "outputs": [
    {
     "data": {
      "text/plain": [
       "(828,)"
      ]
     },
     "execution_count": 4,
     "metadata": {},
     "output_type": "execute_result"
    }
   ],
   "source": [
    "salary = mlb['salary']\n",
    "salary.shape"
   ]
  },
  {
   "cell_type": "code",
   "execution_count": 5,
   "metadata": {},
   "outputs": [
    {
     "data": {
      "image/png": "[encoded data removed]",
      "text/plain": [
       "<Figure size 432x288 with 1 Axes>"
      ]
     },
     "metadata": {
      "needs_background": "light"
     },
     "output_type": "display_data"
    }
   ],
   "source": [
    "# salary does not follow a normal distribution\n",
    "sns.histplot(salary)\n",
    "mean_population = salary.mean()"
   ]
  },
  {
   "cell_type": "code",
   "execution_count": 6,
   "metadata": {},
   "outputs": [],
   "source": [
    "# Segun la teoria del Central Limit Theory (CLT), la media de las muestras tiene una distrubucion Normal\n",
    "means_salary = []\n",
    "for i in range(10000):\n",
    "    salary_samples= salary.sample(n=300, replace=True) # take a sample of 300 values with replacement\n",
    "    means_salary.append(salary_samples.mean())"
   ]
  },
  {
   "cell_type": "code",
   "execution_count": 7,
   "metadata": {},
   "outputs": [
    {
     "data": {
      "text/plain": [
       "<AxesSubplot:ylabel='Count'>"
      ]
     },
     "execution_count": 7,
     "metadata": {},
     "output_type": "execute_result"
    },
    {
     "data": {
      "image/png": "[encoded data removed]",
      "text/plain": [
       "<Figure size 432x288 with 1 Axes>"
      ]
     },
     "metadata": {
      "needs_background": "light"
     },
     "output_type": "display_data"
    }
   ],
   "source": [
    "# mean_salary does follow a normal distribution\n",
    "sns.histplot(means_salary,kde=True,line_kws={'color': 'red'})"
   ]
  },
  {
   "cell_type": "code",
   "execution_count": 8,
   "metadata": {},
   "outputs": [
    {
     "name": "stdout",
     "output_type": "stream",
     "text": [
      "Mean salary population is 3281.83\n",
      "Mean salary of samples mean is 3280.64\n"
     ]
    }
   ],
   "source": [
    "print(f'Mean salary population is {round(mean_population,2)}')\n",
    "print(f'Mean salary of samples mean is {round(np.mean(means_salary),2)}')\n"
   ]
  },
  {
   "cell_type": "code",
   "execution_count": 9,
   "metadata": {},
   "outputs": [
    {
     "name": "stdout",
     "output_type": "stream",
     "text": [
      "Ttest_1sampResult(statistic=-0.45761086333316053, pvalue=0.647241980363551)\n"
     ]
    }
   ],
   "source": [
    "from scipy.stats import ttest_1samp,ttest_ind\n",
    "#The test will tell us whether means of the sample and the population are different\n",
    "#A one sample t-test is used to test whether or not the mean of a population is equal to some value.\n",
    "\n",
    "res= ttest_1samp(a=means_salary,popmean=mean_population)\n",
    "print(res)"
   ]
  },
  {
   "cell_type": "code",
   "execution_count": 10,
   "metadata": {},
   "outputs": [
    {
     "name": "stdout",
     "output_type": "stream",
     "text": [
      "P-value is 64.72% and significance level (alpha) is 5% \n",
      "cannot reject NULL hypothesis\n"
     ]
    }
   ],
   "source": [
    "alpha = 0.05    \n",
    "print(f'P-value is {round(res.pvalue*100,2)}% and significance level (alpha) is 5% ')\n",
    "if res.pvalue < alpha:\n",
    "    print('reject NULL hypothesis')\n",
    "else:\n",
    "    print('cannot reject NULL hypothesis')\n"
   ]
  },
  {
   "cell_type": "markdown",
   "metadata": {},
   "source": [
    "# resultado Exercici 1\n",
    "* como P-value > alpha no podemos descartar la hipotesi nula de que la media de la poblacion es igual a la media de la muestra \n",
    "* por tanto la Hipotesis nula es valida: la media de la muestra es igual a la media de la poblacion (ya lo esperabamos a partir del teorema limite central) "
   ]
  },
  {
   "cell_type": "markdown",
   "metadata": {},
   "source": [
    "# Exercici 2\n",
    "\n",
    "Continua amb el conjunt de dades de tema esportiu que t'agradi i selecciona dos atributs del conjunt de dades. Calcula el p-valor i digues si rebutja la hipòtesi nul·la agafant un alfa de 5%."
   ]
  },
  {
   "cell_type": "code",
   "execution_count": 11,
   "metadata": {},
   "outputs": [
    {
     "data": {
      "text/html": [
       "<div>\n",
       "<style scoped>\n",
       "    .dataframe tbody tr th:only-of-type {\n",
       "        vertical-align: middle;\n",
       "    }\n",
       "\n",
       "    .dataframe tbody tr th {\n",
       "        vertical-align: top;\n",
       "    }\n",
       "\n",
       "    .dataframe thead th {\n",
       "        text-align: right;\n",
       "    }\n",
       "</style>\n",
       "<table border=\"1\" class=\"dataframe\">\n",
       "  <thead>\n",
       "    <tr style=\"text-align: right;\">\n",
       "      <th></th>\n",
       "      <th>player</th>\n",
       "      <th>team</th>\n",
       "      <th>position</th>\n",
       "      <th>salary</th>\n",
       "    </tr>\n",
       "  </thead>\n",
       "  <tbody>\n",
       "    <tr>\n",
       "      <th>0</th>\n",
       "      <td>Brandon Webb</td>\n",
       "      <td>Arizona Diamondbacks</td>\n",
       "      <td>Pitcher</td>\n",
       "      <td>8500.0</td>\n",
       "    </tr>\n",
       "    <tr>\n",
       "      <th>1</th>\n",
       "      <td>Danny Haren</td>\n",
       "      <td>Arizona Diamondbacks</td>\n",
       "      <td>Pitcher</td>\n",
       "      <td>8250.0</td>\n",
       "    </tr>\n",
       "    <tr>\n",
       "      <th>2</th>\n",
       "      <td>Chris Snyder</td>\n",
       "      <td>Arizona Diamondbacks</td>\n",
       "      <td>Catcher</td>\n",
       "      <td>5250.0</td>\n",
       "    </tr>\n",
       "    <tr>\n",
       "      <th>3</th>\n",
       "      <td>Edwin Jackson</td>\n",
       "      <td>Arizona Diamondbacks</td>\n",
       "      <td>Pitcher</td>\n",
       "      <td>4600.0</td>\n",
       "    </tr>\n",
       "    <tr>\n",
       "      <th>4</th>\n",
       "      <td>Adam LaRoche</td>\n",
       "      <td>Arizona Diamondbacks</td>\n",
       "      <td>First Baseman</td>\n",
       "      <td>4500.0</td>\n",
       "    </tr>\n",
       "  </tbody>\n",
       "</table>\n",
       "</div>"
      ],
      "text/plain": [
       "          player                  team       position  salary\n",
       "0   Brandon Webb  Arizona Diamondbacks        Pitcher  8500.0\n",
       "1    Danny Haren  Arizona Diamondbacks        Pitcher  8250.0\n",
       "2   Chris Snyder  Arizona Diamondbacks        Catcher  5250.0\n",
       "3  Edwin Jackson  Arizona Diamondbacks        Pitcher  4600.0\n",
       "4   Adam LaRoche  Arizona Diamondbacks  First Baseman  4500.0"
      ]
     },
     "execution_count": 11,
     "metadata": {},
     "output_type": "execute_result"
    }
   ],
   "source": [
    "mlb.head()"
   ]
  },
  {
   "cell_type": "code",
   "execution_count": 12,
   "metadata": {},
   "outputs": [
    {
     "data": {
      "text/plain": [
       "Pitcher              410\n",
       "Outfielder           148\n",
       "Catcher               67\n",
       "Shortstop             56\n",
       "Second Baseman        48\n",
       "Third Baseman         46\n",
       "First Baseman         42\n",
       "Designated Hitter      7\n",
       "Infielder              4\n",
       "Name: position, dtype: int64"
      ]
     },
     "execution_count": 12,
     "metadata": {},
     "output_type": "execute_result"
    }
   ],
   "source": [
    "mlb.position.value_counts()"
   ]
  },
  {
   "cell_type": "code",
   "execution_count": 13,
   "metadata": {},
   "outputs": [
    {
     "name": "stdout",
     "output_type": "stream",
     "text": [
      "median salary for pitcher is: 2999.197148780487\n"
     ]
    },
    {
     "data": {
      "image/png": "[encoded data removed]",
      "text/plain": [
       "<Figure size 432x288 with 1 Axes>"
      ]
     },
     "metadata": {
      "needs_background": "light"
     },
     "output_type": "display_data"
    }
   ],
   "source": [
    "pitcher_salary = mlb[mlb.position=='Pitcher'].salary\n",
    "sns.histplot(pitcher_salary)\n",
    "print(f'median salary for pitcher is:', pitcher_salary.mean())\n"
   ]
  },
  {
   "cell_type": "code",
   "execution_count": 14,
   "metadata": {},
   "outputs": [
    {
     "name": "stdout",
     "output_type": "stream",
     "text": [
      "median salary for outfielder is 1937.220\n"
     ]
    },
    {
     "data": {
      "image/png": "[encoded data removed]",
      "text/plain": [
       "<Figure size 432x288 with 1 Axes>"
      ]
     },
     "metadata": {
      "needs_background": "light"
     },
     "output_type": "display_data"
    }
   ],
   "source": [
    "catcher_salary = mlb[mlb.position=='Catcher'].salary\n",
    "sns.histplot(catcher_salary)\n",
    "print(f'median salary for outfielder is %.3f' %catcher_salary.mean())\n"
   ]
  },
  {
   "cell_type": "markdown",
   "metadata": {},
   "source": [
    "ttest_ind: Such a test tells us whether two data samples have different means. Here, we take the null hypothesis that both groups have equal means. We don’t need a known population parameter for this."
   ]
  },
  {
   "cell_type": "code",
   "execution_count": 15,
   "metadata": {},
   "outputs": [
    {
     "name": "stdout",
     "output_type": "stream",
     "text": [
      "Ttest_indResult(statistic=2.0529115084742435, pvalue=0.04062838044148807)\n"
     ]
    }
   ],
   "source": [
    "res = ttest_ind(a=pitcher_salary,b=catcher_salary)\n",
    "print(res)"
   ]
  },
  {
   "cell_type": "code",
   "execution_count": 16,
   "metadata": {},
   "outputs": [
    {
     "name": "stdout",
     "output_type": "stream",
     "text": [
      "P-value is 4.06% and significance level (alpha) is 5% \n"
     ]
    }
   ],
   "source": [
    "print(f'P-value is {round(res.pvalue*100,2)}% and significance level (alpha) is 5% ')"
   ]
  },
  {
   "cell_type": "code",
   "execution_count": 17,
   "metadata": {},
   "outputs": [
    {
     "data": {
      "text/plain": [
       "<seaborn.axisgrid.FacetGrid at 0x7f3b166b1dc0>"
      ]
     },
     "execution_count": 17,
     "metadata": {},
     "output_type": "execute_result"
    },
    {
     "data": {
      "image/png": "[encoded data removed]",
      "text/plain": [
       "<Figure size 360x360 with 1 Axes>"
      ]
     },
     "metadata": {
      "needs_background": "light"
     },
     "output_type": "display_data"
    }
   ],
   "source": [
    "#### any outlier in the data?\n",
    "chart =sns.catplot(x='position',y='salary',data = mlb,kind='box')\n",
    "chart.set_xticklabels(rotation=45)"
   ]
  },
  {
   "cell_type": "code",
   "execution_count": 18,
   "metadata": {},
   "outputs": [
    {
     "data": {
      "text/html": [
       "<div>\n",
       "<style scoped>\n",
       "    .dataframe tbody tr th:only-of-type {\n",
       "        vertical-align: middle;\n",
       "    }\n",
       "\n",
       "    .dataframe tbody tr th {\n",
       "        vertical-align: top;\n",
       "    }\n",
       "\n",
       "    .dataframe thead th {\n",
       "        text-align: right;\n",
       "    }\n",
       "</style>\n",
       "<table border=\"1\" class=\"dataframe\">\n",
       "  <thead>\n",
       "    <tr style=\"text-align: right;\">\n",
       "      <th></th>\n",
       "      <th>player</th>\n",
       "      <th>team</th>\n",
       "      <th>position</th>\n",
       "      <th>salary</th>\n",
       "    </tr>\n",
       "  </thead>\n",
       "  <tbody>\n",
       "    <tr>\n",
       "      <th>0</th>\n",
       "      <td>Brandon Webb</td>\n",
       "      <td>Arizona Diamondbacks</td>\n",
       "      <td>Pitcher</td>\n",
       "      <td>8500.0</td>\n",
       "    </tr>\n",
       "    <tr>\n",
       "      <th>1</th>\n",
       "      <td>Danny Haren</td>\n",
       "      <td>Arizona Diamondbacks</td>\n",
       "      <td>Pitcher</td>\n",
       "      <td>8250.0</td>\n",
       "    </tr>\n",
       "    <tr>\n",
       "      <th>2</th>\n",
       "      <td>Chris Snyder</td>\n",
       "      <td>Arizona Diamondbacks</td>\n",
       "      <td>Catcher</td>\n",
       "      <td>5250.0</td>\n",
       "    </tr>\n",
       "    <tr>\n",
       "      <th>3</th>\n",
       "      <td>Edwin Jackson</td>\n",
       "      <td>Arizona Diamondbacks</td>\n",
       "      <td>Pitcher</td>\n",
       "      <td>4600.0</td>\n",
       "    </tr>\n",
       "    <tr>\n",
       "      <th>5</th>\n",
       "      <td>Chad Qualls</td>\n",
       "      <td>Arizona Diamondbacks</td>\n",
       "      <td>Pitcher</td>\n",
       "      <td>4185.0</td>\n",
       "    </tr>\n",
       "  </tbody>\n",
       "</table>\n",
       "</div>"
      ],
      "text/plain": [
       "          player                  team position  salary\n",
       "0   Brandon Webb  Arizona Diamondbacks  Pitcher  8500.0\n",
       "1    Danny Haren  Arizona Diamondbacks  Pitcher  8250.0\n",
       "2   Chris Snyder  Arizona Diamondbacks  Catcher  5250.0\n",
       "3  Edwin Jackson  Arizona Diamondbacks  Pitcher  4600.0\n",
       "5    Chad Qualls  Arizona Diamondbacks  Pitcher  4185.0"
      ]
     },
     "execution_count": 18,
     "metadata": {},
     "output_type": "execute_result"
    }
   ],
   "source": [
    "mlb[(mlb['position']=='Pitcher') | (mlb['position']=='Catcher')].head()"
   ]
  },
  {
   "cell_type": "code",
   "execution_count": 19,
   "metadata": {},
   "outputs": [],
   "source": [
    "# vamos a quitar los outliers de pitcher & catcher\n",
    "def remove_outliers(df):\n",
    "    Q1 = df.quantile(0.25)\n",
    "    Q3 = df.quantile(0.75)\n",
    "    IQR = Q3 - Q1\n",
    "    df_clean = ~((df < (Q1 - 1.5 * IQR)) |(df > (Q3 + 1.5 * IQR)))\n",
    "    return df_clean\n",
    "    "
   ]
  },
  {
   "cell_type": "code",
   "execution_count": 20,
   "metadata": {},
   "outputs": [
    {
     "data": {
      "text/plain": [
       "<AxesSubplot:ylabel='Count'>"
      ]
     },
     "execution_count": 20,
     "metadata": {},
     "output_type": "execute_result"
    },
    {
     "data": {
      "image/png": "[encoded data removed]",
      "text/plain": [
       "<Figure size 432x288 with 1 Axes>"
      ]
     },
     "metadata": {
      "needs_background": "light"
     },
     "output_type": "display_data"
    },
    {
     "data": {
      "image/png": "[encoded data removed]",
      "text/plain": [
       "<Figure size 432x288 with 1 Axes>"
      ]
     },
     "metadata": {
      "needs_background": "light"
     },
     "output_type": "display_data"
    }
   ],
   "source": [
    "# remove outliers\n",
    "pitcher = mlb[mlb['position']=='Pitcher'][['salary']]\n",
    "mask = remove_outliers(pitcher)\n",
    "pitcher_outliers_removed = pitcher[mask]\n",
    "pitcher_outliers_removed.dropna(inplace=True)\n",
    "catcher = mlb[mlb['position']=='Catcher'][['salary']]\n",
    "mask = remove_outliers(catcher)\n",
    "catcher_outliers_removed = catcher[mask]\n",
    "catcher_outliers_removed.dropna(inplace=True)\n",
    "sns.histplot(pitcher_outliers_removed)\n",
    "plt.figure()\n",
    "sns.histplot(catcher_outliers_removed)\n"
   ]
  },
  {
   "cell_type": "code",
   "execution_count": 21,
   "metadata": {},
   "outputs": [
    {
     "data": {
      "text/plain": [
       "salary    1229.062767\n",
       "dtype: float64"
      ]
     },
     "metadata": {},
     "output_type": "display_data"
    },
    {
     "data": {
      "text/plain": [
       "salary    1795.796896\n",
       "dtype: float64"
      ]
     },
     "metadata": {},
     "output_type": "display_data"
    }
   ],
   "source": [
    "display(catcher_outliers_removed.mean())\n",
    "display(pitcher_outliers_removed.mean())"
   ]
  },
  {
   "cell_type": "code",
   "execution_count": 22,
   "metadata": {},
   "outputs": [
    {
     "name": "stdout",
     "output_type": "stream",
     "text": [
      "Ttest_indResult(statistic=2.1406838501240544, pvalue=0.03286930245008045)\n"
     ]
    }
   ],
   "source": [
    "res = ttest_ind(pitcher_outliers_removed.salary,catcher_outliers_removed.salary)\n",
    "print(res)"
   ]
  },
  {
   "cell_type": "code",
   "execution_count": 23,
   "metadata": {},
   "outputs": [
    {
     "name": "stdout",
     "output_type": "stream",
     "text": [
      "P-value is 3.29% and significance level (alpha) is 5% \n",
      "reject NULL hypothesis -> there are diferences\n"
     ]
    }
   ],
   "source": [
    "print(f'P-value is {round(res.pvalue*100,2)}% and significance level (alpha) is 5% ')\n",
    "alpha = 0.05\n",
    "if res.pvalue < alpha:\n",
    "    print('reject NULL hypothesis -> there are diferences')\n",
    "else:\n",
    "    print('can\\'t reject NULL hypothesis')"
   ]
  },
  {
   "cell_type": "markdown",
   "metadata": {},
   "source": [
    "# resultado Exercici 2\n",
    "\n",
    "## sin quitar outliers\n",
    "* como P-value < alpha, entonces SI podemos descartar la hipotesi nula de que la media de las 2 muestras son iguales.\n",
    "* por tanto las 2 muestras tienen diferencia en salarios\n",
    "\n",
    "## quitando outliers\n",
    "\n",
    "*  como P-value << alpha, podemos descartar mas todavia la hipotesi nula de que la media de las 2 muestras son iguales.\n",
    "*    por tanto las 2 muestras tienen diferencia en salarios\n"
   ]
  },
  {
   "cell_type": "markdown",
   "metadata": {},
   "source": [
    "# Exercici 3\n",
    "\n",
    "Continua amb el conjunt de dades de tema esportiu que t'agradi i selecciona tres atributs del conjunt de dades. Calcula el p-valor i digues si rebutja la hipòtesi nul·la agafant un alfa de 5%.\n",
    "\n",
    "\n",
    "Objectius\n",
    "\n",
    "    Calcular el p-valor de diferents variable o conjunt de variables\n",
    "    Interpretar el p-valor i dir si rebutja la hipòtesi nul·la\n",
    "\n"
   ]
  },
  {
   "cell_type": "markdown",
   "metadata": {},
   "source": [
    "sometimes, we want to compare means across many groups. For this task we will use analysis of variance (ANOVA) and a new test statistic called 𝐹. ANOVA uses a single hypothesis test to check whether the means across many groups are equal :"
   ]
  },
  {
   "cell_type": "code",
   "execution_count": 24,
   "metadata": {},
   "outputs": [],
   "source": [
    "# implementar a one way t-test ANOVA\n",
    "from scipy.stats import f_oneway"
   ]
  },
  {
   "cell_type": "code",
   "execution_count": 25,
   "metadata": {},
   "outputs": [],
   "source": [
    "First_Baseman = mlb[mlb.position == 'First Baseman']['salary']\n",
    "Second_Baseman = mlb[mlb.position == 'Second Baseman']['salary']\n",
    "Third_Baseman = mlb[mlb.position == 'Third Baseman']['salary']"
   ]
  },
  {
   "cell_type": "code",
   "execution_count": 26,
   "metadata": {},
   "outputs": [
    {
     "name": "stdout",
     "output_type": "stream",
     "text": [
      "F_onewayResult(statistic=3.0407238525621834, pvalue=0.051136635402795005)\n"
     ]
    }
   ],
   "source": [
    "res = f_oneway(First_Baseman,Second_Baseman,Third_Baseman)\n",
    "print(res)\n"
   ]
  },
  {
   "cell_type": "code",
   "execution_count": 27,
   "metadata": {},
   "outputs": [
    {
     "name": "stdout",
     "output_type": "stream",
     "text": [
      "fail to reject NULL hypothesis --> apparently there are no differences between them\n"
     ]
    }
   ],
   "source": [
    "alpha = 0.05\n",
    "if res.pvalue < alpha:\n",
    "    print('reject NULL hypothesis that there is no differences between them')\n",
    "else:\n",
    "    print('fail to reject NULL hypothesis --> apparently there are no differences between them')"
   ]
  },
  {
   "cell_type": "code",
   "execution_count": 28,
   "metadata": {},
   "outputs": [
    {
     "data": {
      "text/html": [
       "<div>\n",
       "<style scoped>\n",
       "    .dataframe tbody tr th:only-of-type {\n",
       "        vertical-align: middle;\n",
       "    }\n",
       "\n",
       "    .dataframe tbody tr th {\n",
       "        vertical-align: top;\n",
       "    }\n",
       "\n",
       "    .dataframe thead th {\n",
       "        text-align: right;\n",
       "    }\n",
       "</style>\n",
       "<table border=\"1\" class=\"dataframe\">\n",
       "  <thead>\n",
       "    <tr style=\"text-align: right;\">\n",
       "      <th></th>\n",
       "      <th>player</th>\n",
       "      <th>team</th>\n",
       "      <th>position</th>\n",
       "      <th>salary</th>\n",
       "    </tr>\n",
       "  </thead>\n",
       "  <tbody>\n",
       "    <tr>\n",
       "      <th>0</th>\n",
       "      <td>Brandon Webb</td>\n",
       "      <td>Arizona Diamondbacks</td>\n",
       "      <td>Pitcher</td>\n",
       "      <td>8500.0</td>\n",
       "    </tr>\n",
       "    <tr>\n",
       "      <th>1</th>\n",
       "      <td>Danny Haren</td>\n",
       "      <td>Arizona Diamondbacks</td>\n",
       "      <td>Pitcher</td>\n",
       "      <td>8250.0</td>\n",
       "    </tr>\n",
       "    <tr>\n",
       "      <th>2</th>\n",
       "      <td>Chris Snyder</td>\n",
       "      <td>Arizona Diamondbacks</td>\n",
       "      <td>Catcher</td>\n",
       "      <td>5250.0</td>\n",
       "    </tr>\n",
       "    <tr>\n",
       "      <th>3</th>\n",
       "      <td>Edwin Jackson</td>\n",
       "      <td>Arizona Diamondbacks</td>\n",
       "      <td>Pitcher</td>\n",
       "      <td>4600.0</td>\n",
       "    </tr>\n",
       "    <tr>\n",
       "      <th>4</th>\n",
       "      <td>Adam LaRoche</td>\n",
       "      <td>Arizona Diamondbacks</td>\n",
       "      <td>First Baseman</td>\n",
       "      <td>4500.0</td>\n",
       "    </tr>\n",
       "  </tbody>\n",
       "</table>\n",
       "</div>"
      ],
      "text/plain": [
       "          player                  team       position  salary\n",
       "0   Brandon Webb  Arizona Diamondbacks        Pitcher  8500.0\n",
       "1    Danny Haren  Arizona Diamondbacks        Pitcher  8250.0\n",
       "2   Chris Snyder  Arizona Diamondbacks        Catcher  5250.0\n",
       "3  Edwin Jackson  Arizona Diamondbacks        Pitcher  4600.0\n",
       "4   Adam LaRoche  Arizona Diamondbacks  First Baseman  4500.0"
      ]
     },
     "execution_count": 28,
     "metadata": {},
     "output_type": "execute_result"
    }
   ],
   "source": [
    "mlb.head()"
   ]
  },
  {
   "cell_type": "code",
   "execution_count": 29,
   "metadata": {},
   "outputs": [
    {
     "data": {
      "text/html": [
       "<div>\n",
       "<style scoped>\n",
       "    .dataframe tbody tr th:only-of-type {\n",
       "        vertical-align: middle;\n",
       "    }\n",
       "\n",
       "    .dataframe tbody tr th {\n",
       "        vertical-align: top;\n",
       "    }\n",
       "\n",
       "    .dataframe thead th {\n",
       "        text-align: right;\n",
       "    }\n",
       "</style>\n",
       "<table border=\"1\" class=\"dataframe\">\n",
       "  <thead>\n",
       "    <tr style=\"text-align: right;\">\n",
       "      <th></th>\n",
       "      <th></th>\n",
       "      <th>salary</th>\n",
       "    </tr>\n",
       "    <tr>\n",
       "      <th>team</th>\n",
       "      <th>position</th>\n",
       "      <th></th>\n",
       "    </tr>\n",
       "  </thead>\n",
       "  <tbody>\n",
       "    <tr>\n",
       "      <th rowspan=\"5\" valign=\"top\">Arizona Diamondbacks</th>\n",
       "      <th>Catcher</th>\n",
       "      <td>3625.000</td>\n",
       "    </tr>\n",
       "    <tr>\n",
       "      <th>First Baseman</th>\n",
       "      <td>3800.000</td>\n",
       "    </tr>\n",
       "    <tr>\n",
       "      <th>Outfielder</th>\n",
       "      <td>708.333</td>\n",
       "    </tr>\n",
       "    <tr>\n",
       "      <th>Pitcher</th>\n",
       "      <td>725.000</td>\n",
       "    </tr>\n",
       "    <tr>\n",
       "      <th>Second Baseman</th>\n",
       "      <td>2350.000</td>\n",
       "    </tr>\n",
       "    <tr>\n",
       "      <th>...</th>\n",
       "      <th>...</th>\n",
       "      <td>...</td>\n",
       "    </tr>\n",
       "    <tr>\n",
       "      <th rowspan=\"5\" valign=\"top\">Washington Nationals</th>\n",
       "      <th>Outfielder</th>\n",
       "      <td>963.250</td>\n",
       "    </tr>\n",
       "    <tr>\n",
       "      <th>Pitcher</th>\n",
       "      <td>650.000</td>\n",
       "    </tr>\n",
       "    <tr>\n",
       "      <th>Second Baseman</th>\n",
       "      <td>1250.000</td>\n",
       "    </tr>\n",
       "    <tr>\n",
       "      <th>Shortstop</th>\n",
       "      <td>415.500</td>\n",
       "    </tr>\n",
       "    <tr>\n",
       "      <th>Third Baseman</th>\n",
       "      <td>6350.000</td>\n",
       "    </tr>\n",
       "  </tbody>\n",
       "</table>\n",
       "<p>215 rows × 1 columns</p>\n",
       "</div>"
      ],
      "text/plain": [
       "                                       salary\n",
       "team                 position                \n",
       "Arizona Diamondbacks Catcher         3625.000\n",
       "                     First Baseman   3800.000\n",
       "                     Outfielder       708.333\n",
       "                     Pitcher          725.000\n",
       "                     Second Baseman  2350.000\n",
       "...                                       ...\n",
       "Washington Nationals Outfielder       963.250\n",
       "                     Pitcher          650.000\n",
       "                     Second Baseman  1250.000\n",
       "                     Shortstop        415.500\n",
       "                     Third Baseman   6350.000\n",
       "\n",
       "[215 rows x 1 columns]"
      ]
     },
     "execution_count": 29,
     "metadata": {},
     "output_type": "execute_result"
    }
   ],
   "source": [
    "mlb.groupby(['team','position']).median()"
   ]
  },
  {
   "cell_type": "code",
   "execution_count": 49,
   "metadata": {},
   "outputs": [
    {
     "name": "stdout",
     "output_type": "stream",
     "text": [
      "<statsmodels.regression.linear_model.RegressionResultsWrapper object at 0x7f3b079f0f70>\n",
      "                sum_sq     df         F        PR(>F)\n",
      "team      1.696427e+09   29.0  3.258018  2.787496e-08\n",
      "position  6.227339e+08    8.0  4.335397  3.942897e-05\n",
      "Residual  1.418439e+10  790.0       NaN           NaN\n"
     ]
    }
   ],
   "source": [
    "#relationship between team and position over the salary?\n",
    "import statsmodels as sm\n",
    "\n",
    "formula = 'salary ~ team + position'\n",
    "model = sm.api.formula.ols(formula=formula,data=mlb).fit()\n",
    "print(model)\n",
    "res = sm.api.stats.anova_lm(model,typ=2)\n",
    "print(res)"
   ]
  },
  {
   "cell_type": "markdown",
   "metadata": {},
   "source": [
    "* si el p-value (PR < 0.05) significa que rechazamos Ho (no hay diferencias)\n",
    "+ observamos diferencias si tenemos en cuenta la posicion y el equipo"
   ]
  },
  {
   "cell_type": "code",
   "execution_count": null,
   "metadata": {},
   "outputs": [],
   "source": []
  }
 ],
 "metadata": {
  "kernelspec": {
   "display_name": "Python 3.8.5 64-bit",
   "language": "python",
   "name": "python38564bit085283b789164c689fec9352bdb58d25"
  },
  "language_info": {
   "codemirror_mode": {
    "name": "ipython",
    "version": 3
   },
   "file_extension": ".py",
   "mimetype": "text/x-python",
   "name": "python",
   "nbconvert_exporter": "python",
   "pygments_lexer": "ipython3",
   "version": "3.8.5"
  }
 },
 "nbformat": 4,
 "nbformat_minor": 4
}
